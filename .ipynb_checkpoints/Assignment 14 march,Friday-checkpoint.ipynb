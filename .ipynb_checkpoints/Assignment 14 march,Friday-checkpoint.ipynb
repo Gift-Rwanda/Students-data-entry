{
 "cells": [
  {
   "cell_type": "code",
   "execution_count": 1,
   "id": "2ff5fbe5-5ca2-4e62-9831-78a57f525297",
   "metadata": {},
   "outputs": [],
   "source": [
    "students={}"
   ]
  },
  {
   "cell_type": "code",
   "execution_count": 3,
   "id": "e2c711be-5197-405a-809e-1178d0f285ab",
   "metadata": {},
   "outputs": [],
   "source": [
    "def adding():\n",
    "    count=0\n",
    "    while True:\n",
    "        students_entry=int(input(\"how many students do you have?\"))\n",
    "        name=input(\"enter the student name:\")\n",
    "        grades=int(input(\"enter grades:\"))\n",
    "        students[name]=[grades]\n",
    "        count+=1\n",
    "        if count==students:\n",
    "            break     "
   ]
  },
  {
   "cell_type": "code",
   "execution_count": 4,
   "id": "e9bb8c6a-a24e-4892-9ff6-3fd9cf214a2f",
   "metadata": {},
   "outputs": [],
   "source": [
    "def average():\n",
    "    if students==True:\n",
    "        for values in students.values:\n",
    "            average=statistics.mean(values)\n",
    "    else:\n",
    "        print(\"please add some students!\")"
   ]
  },
  {
   "cell_type": "code",
   "execution_count": 5,
   "id": "ba433aea-8b3a-44f4-a296-9b60976c0b96",
   "metadata": {},
   "outputs": [],
   "source": [
    "def sorting():\n",
    "    if students==True:\n",
    "        print(sorted(students.keys))\n",
    "    else:\n",
    "        print(\"please add some students!\")"
   ]
  },
  {
   "cell_type": "code",
   "execution_count": null,
   "id": "a23e290a-eb22-4c81-b5ca-a66ae4c6c759",
   "metadata": {},
   "outputs": [],
   "source": [
    "while True:\n",
    "    Option=int(input(\" 1: Add New Students and Grades, 2: Calculate Average Grades,  3: Find the Top Student, 4: Display the Sorted Report, 5: Exit the Program.\"))\n",
    "    if Option==1:\n",
    "        adding()\n",
    "    elif Option==2:\n",
    "        average()\n",
    "    elif Option==3:\n",
    "        print(\"please add some students\")\n",
    "    elif Option==4:\n",
    "        sorting()\n",
    "    elif Option==5:\n",
    "        break\n",
    "    else:\n",
    "        print(\"invalid input, please choose from 1 up to 5\")"
   ]
  },
  {
   "cell_type": "code",
   "execution_count": null,
   "id": "297e4873-0244-44c2-8b22-06c851235446",
   "metadata": {},
   "outputs": [],
   "source": []
  }
 ],
 "metadata": {
  "kernelspec": {
   "display_name": "Python 3 (ipykernel)",
   "language": "python",
   "name": "python3"
  },
  "language_info": {
   "codemirror_mode": {
    "name": "ipython",
    "version": 3
   },
   "file_extension": ".py",
   "mimetype": "text/x-python",
   "name": "python",
   "nbconvert_exporter": "python",
   "pygments_lexer": "ipython3",
   "version": "3.13.2"
  }
 },
 "nbformat": 4,
 "nbformat_minor": 5
}
